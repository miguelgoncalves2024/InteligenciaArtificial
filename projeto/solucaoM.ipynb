import pandas as pd
from sklearn.model_selection import train_test_split, RandomizedSearchCV
from sklearn.ensemble import RandomForestRegressor
from sklearn.metrics import r2_score
from sklearn.model_selection import cross_val_score

# Carregar os dados
dataset = pd.read_csv('../')

# Pré-Processamento dos Dados
dataset = pd.get_dummies(dataset, columns=['tipo', 'caixa', 'combustivel', 'marca', 'com_danos'])

# Separar features (X) e target (y)
X = dataset.drop(['id', 'preco'], axis=1)
y = dataset['preco']

# Dividir o conjunto de dados em treino e teste
X_train, X_test, y_train, y_test = train_test_split(X, y, test_size=0.2, random_state=42)

# Ajuste de Hiperparâmetros com RandomizedSearchCV
param_dist = {
    'n_estimators': [50, 100, 150, 200],
    'max_features': [None, 'sqrt', 'log2', 0.5, 0.7],  # Adicione valores numéricos ou None
    'max_depth': [None, 10, 20, 30],
    'min_samples_split': [2, 5, 10],
    'min_samples_leaf': [1, 2, 4]
}

model = RandomForestRegressor()
random_search = RandomizedSearchCV(model, param_distributions=param_dist, n_iter=250, cv=10, scoring='r2', n_jobs=-1, error_score='raise')
random_search.fit(X_train, y_train)

# Melhores parâmetros encontrados
print("Melhores Parâmetros Encontrados:", random_search.best_params_)

# Avaliar o modelo ajustado
y_pred_random = random_search.predict(X_test)
r2_random = r2_score(y_test, y_pred_random)
print(f'R2 Score (Após Ajuste): {r2_random}')

# Também é possível realizar validação cruzada
cv_scores = cross_val_score(random_search.best_estimator_, X, y, cv=10, scoring='r2')
print(f'Média dos R2 Scores na validação cruzada: {cv_scores.mean()}')

# Carregar o conjunto just_features.csv
just_features = pd.read_csv('../datasets/just_features.csv')

# Pré-processar os dados (mesmas transformações aplicadas no conjunto de treino)
just_features = pd.get_dummies(just_features, columns=['tipo', 'caixa', 'combustivel', 'marca', 'com_danos'])

# Fazer previsões para os preços
precos_estimados = random_search.predict(just_features.drop('id', axis=1))

# Criar DataFrame com id e preço estimado
resultados = pd.DataFrame({'id': just_features['id'], 'preco': precos_estimados})

# Salvar os resultados em um arquivo CSV
resultados.to_csv('precos_estimados.csv', index=False)