{
 "cells": [
  {
   "cell_type": "code",
   "execution_count": 4,
   "metadata": {},
   "outputs": [],
   "source": [
    "import pandas as pd\n",
    "from sklearn.model_selection import train_test_split\n",
    "from sklearn.ensemble import RandomForestRegressor\n",
    "from sklearn.metrics import r2_score\n",
    "\n",
    "# Carregar os dados\n",
    "dataset = pd.read_csv('../datasets/dataset.csv')\n",
    "\n",
    "# Pré-Processamento dos Dados\n",
    "dataset = pd.get_dummies(dataset, columns=['tipo', 'caixa', 'combustivel', 'marca', 'com_danos'])\n",
    "\n",
    "# Lidar com possíveis valores nulos\n",
    "dataset = dataset.dropna()\n",
    "\n",
    "# Separar features (X) e target (y)\n",
    "X = dataset.drop(['id', 'preco'], axis=1)\n",
    "y = dataset['preco']\n",
    "\n",
    "# Dividir o conjunto de dados em treino e teste\n",
    "X_train, X_test, y_train, y_test = train_test_split(X, y, test_size=0.2, random_state=42)\n"
   ]
  },
  {
   "cell_type": "code",
   "execution_count": 5,
   "metadata": {},
   "outputs": [
    {
     "name": "stdout",
     "output_type": "stream",
     "text": [
      "R2 Score on Test Data: 0.752073853426942\n"
     ]
    }
   ],
   "source": [
    "# Modelo Random Forest\n",
    "rf_model = RandomForestRegressor(random_state=42)\n",
    "\n",
    "# Treinar o modelo\n",
    "rf_model.fit(X_train, y_train)\n",
    "\n",
    "# Avaliar o modelo nos dados de teste\n",
    "y_pred = rf_model.predict(X_test)\n",
    "r2 = r2_score(y_test, y_pred)\n",
    "print(f'R2 Score on Test Data: {r2}')"
   ]
  },
  {
   "cell_type": "code",
   "execution_count": 6,
   "metadata": {},
   "outputs": [],
   "source": [
    "# Estimar os preços para as viaturas com características no just_features.csv\n",
    "just_features = pd.read_csv('../datasets/just_features.csv')\n",
    "\n",
    "# Garantir que as features são as mesmas usadas para treino do modelo\n",
    "just_features_processed = pd.get_dummies(just_features, columns=['tipo', 'caixa', 'combustivel', 'marca', 'com_danos'])\n",
    "just_features_processed = just_features_processed.reindex(columns=X.columns, fill_value=0)\n",
    "\n",
    "# Adicionar a coluna 'id' de volta ao just_features_processed\n",
    "just_features_processed['id'] = just_features['id']\n",
    "\n",
    "# Fazer as estimativas\n",
    "estimated_prices = rf_model.predict(just_features_processed.drop('id', axis=1))\n",
    "\n",
    "# Criar DataFrame com as estimativas\n",
    "results_df = pd.DataFrame({'id': just_features_processed['id'], 'preco': estimated_prices})\n",
    "\n",
    "# Salvar as estimativas em precos_estimados.csv\n",
    "results_df.to_csv('precos_estimados.csv', index=False)"
   ]
  }
 ],
 "metadata": {
  "kernelspec": {
   "display_name": "Python 3",
   "language": "python",
   "name": "python3"
  },
  "language_info": {
   "codemirror_mode": {
    "name": "ipython",
    "version": 3
   },
   "file_extension": ".py",
   "mimetype": "text/x-python",
   "name": "python",
   "nbconvert_exporter": "python",
   "pygments_lexer": "ipython3",
   "version": "3.11.7"
  }
 },
 "nbformat": 4,
 "nbformat_minor": 2
}
