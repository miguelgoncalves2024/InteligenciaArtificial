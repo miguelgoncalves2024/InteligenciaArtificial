{
 "cells": [
  {
   "cell_type": "code",
   "execution_count": null,
   "metadata": {},
   "outputs": [],
   "source": [
    "import pandas as pd\n",
    "from sklearn.model_selection import train_test_split\n",
    "from sklearn.ensemble import RandomForestRegressor\n",
    "from sklearn.metrics import r2_score\n",
    "\n",
    "# Carregar os dados\n",
    "dataset = pd.read_csv('../datasets/dataset.csv')\n",
    "\n",
    "# Pré-Processamento dos Dados\n",
    "dataset = pd.get_dummies(dataset, columns=['tipo', 'caixa', 'combustivel', 'marca', 'com_danos'])\n",
    "\n",
    "# Lidar com possíveis valores nulos\n",
    "dataset = dataset.dropna()\n",
    "\n",
    "# Separar features (X) e target (y)\n",
    "X = dataset.drop(['id', 'preco'], axis=1)\n",
    "Y = dataset['preco']"
   ]
  },
  {
   "cell_type": "code",
   "execution_count": null,
   "metadata": {},
   "outputs": [],
   "source": [
    "# Modelo Random Forest\n",
    "rf_model = RandomForestRegressor()\n",
    "\n",
    "# Treinar o modelo com todos os dados\n",
    "rf_model.fit(X, Y)"
   ]
  },
  {
   "cell_type": "code",
   "execution_count": null,
   "metadata": {},
   "outputs": [],
   "source": [
    "# Estimar os preços para as viaturas com características no just_features.csv\n",
    "just_features = pd.read_csv('../datasets/just_features.csv')\n",
    "\n",
    "# Garantir que as features são as mesmas usadas para treino do modelo\n",
    "just_features_processed = pd.get_dummies(just_features, columns=['tipo', 'caixa', 'combustivel', 'marca', 'com_danos'])\n",
    "just_features_processed = just_features_processed.reindex(columns=X.columns, fill_value=0)\n",
    "\n",
    "# Adicionar a coluna 'id' de volta ao just_features_processed\n",
    "just_features_processed['id'] = just_features['id']\n",
    "\n",
    "# Fazer as estimativas\n",
    "estimated_prices = rf_model.predict(just_features_processed.drop('id', axis=1))\n",
    "\n",
    "estimated_prices_rounded = estimated_prices.round(0)\n",
    "\n",
    "# Criar DataFrame com as estimativas arredondadas\n",
    "results_df = pd.DataFrame({'id': just_features_processed['id'], 'preco': estimated_prices_rounded.astype(int)})\n",
    "\n",
    "# Salvar as estimativas arredondadas em precos_estimados.csv\n",
    "results_df.to_csv('../datasets/precos_estimados.csv', index=False)"
   ]
  },
  {
   "cell_type": "code",
   "execution_count": null,
   "metadata": {},
   "outputs": [],
   "source": [
    "# Avaliar o modelo no conjunto de teste\n",
    "y_pred_all = rf_model.predict(X)\n",
    "r2_all = r2_score(Y, y_pred_all)\n",
    "print(f\"R² no conjunto completo: {r2_all}\")\n",
    "\n",
    "# Calcular R² para as estimativas\n",
    "r2_estimates = r2_score(Y[:len(estimated_prices)], estimated_prices)\n",
    "print(f\"R² para as estimativas no conjunto completo: {r2_estimates}\")"
   ]
  }
 ],
 "metadata": {
  "kernelspec": {
   "display_name": "Python 3",
   "language": "python",
   "name": "python3"
  },
  "language_info": {
   "codemirror_mode": {
    "name": "ipython",
    "version": 3
   },
   "file_extension": ".py",
   "mimetype": "text/x-python",
   "name": "python",
   "nbconvert_exporter": "python",
   "pygments_lexer": "ipython3",
   "version": "3.11.7"
  }
 },
 "nbformat": 4,
 "nbformat_minor": 2
}
