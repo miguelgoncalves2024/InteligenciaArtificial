# Importações de bibliotecas
import pandas as pd
import seaborn as sns
import matplotlib.pyplot as plt
import numpy as np
from sklearn.preprocessing import MinMaxScaler
from sklearn.model_selection import train_test_split, GridSearchCV
from sklearn.ensemble import RandomForestRegressor
from sklearn.metrics import mean_squared_error
from sklearn.preprocessing import LabelEncoder

# Carregar o dataset para treinamento
df_train = pd.read_csv('../datasets/dataset.csv')

# Pré-processamento dos dados de treinamento
#id,tipo,ano_registo,caixa,potencia,km,combustivel,marca,com_danos,preco
#26713,limousine,2014,manual,140,40800,gasolina,outra,nao,14200

le = LabelEncoder()
df_train['id'] = le.fit_transform(df_train['id'])
df_train['tipo'] = le.fit_transform(df_train['tipo'])
df_train['ano_registo'] = le.fit_transform(df_train['ano_registo'])
df_train['caixa'] = le.fit_transform(df_train['caixa'])
df_train['potencia'] = le.fit_transform(df_train['potencia'])
df_train['km'] = le.fit_transform(df_train['km'])
df_train['combustivel'] = le.fit_transform(df_train['combustivel'])
df_train['marca'] = le.fit_transform(df_train['marca'])
df_train['com_danos'] = le.fit_transform(df_train['com_danos'])
df_train['preco'] = le.fit_transform(df_train['preco'])

# Separar os dados em recursos (X) e rótulo (y)
X = df_train.drop(['id', 'preco'], axis=1)
y = df_train['preco']

# Dividir os dados em treino e teste
X_train, X_test, y_train, y_test = train_test_split(X, y, test_size=0.2, random_state=42)

# Criar e treinar o modelo Random Forest
model = RandomForestRegressor(n_estimators=100, random_state=42)
model.fit(X_train, y_train)

# Avaliar o modelo
y_pred = model.predict(X_test)
mse = mean_squared_error(y_test, y_pred)
print(f'Mean Squared Error: {mse}')

# Estimar os preços para o conjunto just_features.csv
df_estimar = pd.read_csv('just_features.csv')

# Pré-processar os dados de estimativa
df_estimar['combustivel'] = le.transform(df_estimar['combustivel'])
df_estimar['marca'] = le.transform(df_estimar['marca'])
df_estimar['tipo'] = le.transform(df_estimar['tipo'])
df_estimar['caixa'] = le.transform(df_estimar['caixa'])
df_estimar['com_danos'] = le.transform(df_estimar['com_danos'])

# Fazer as previsões
precos_estimados = model.predict(df_estimar.drop('id', axis=1))

# Criar um DataFrame com os resultados
resultados = pd.DataFrame({'id': df_estimar['id'], 'preco': precos_estimados})

# Salvar os resultados em um arquivo CSV
resultados.to_csv('precos_estimados.csv', index=False)
